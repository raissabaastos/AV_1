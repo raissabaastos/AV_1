{
 "cells": [
  {
   "cell_type": "markdown",
   "metadata": {},
   "source": [
    "**Exercício 1**\n",
    "\n",
    "Um projétil é lançado verticalmente para cima, a partir do solo, com velocidade inicial  (v0 em m/s). O projétil está sujeito apenas à gravidade ($g= 9,8 m/s2$). Para tornar o exercício único para cada aluno, defina a altura inicial  ($h0$) como sendo igual à soma dos dígitos do seu RA multiplicada por 3 (ou seja,  soma dos dígitos do RA).\n",
    "\n",
    "Tarefas:\n",
    "\n",
    "Solicitar o número do RA.\n",
    "• Calcular a soma dos dígitos do RA.\n",
    "• Definir  h0 (soma dos dígitos do RA).\n",
    "• Solicitar ao usuário a velocidade inicial  (em m/s).\n",
    "• Calcular e imprimir o tempo total que o corpo leva para atingir o solo após o lançamento, considerando a altura inicial.\n",
    "Use a equação do movimento vertical para determinar o tempo total de voo:\n",
    " \n",
    "$h(t)=h_0+v_0t−12gt^2$\n",
    " \n",
    "O tempo total corresponde ao instante em que $h(t)=0$."
   ]
  },
  {
   "cell_type": "markdown",
   "metadata": {},
   "source": [
    "![alt text]({699360E4-CCB2-4CA0-B488-456CE1180FDA}.png)"
   ]
  },
  {
   "cell_type": "code",
   "execution_count": 1,
   "metadata": {},
   "outputs": [
    {
     "name": "stdout",
     "output_type": "stream",
     "text": [
      "A soma dos dígitos do RA 11202320877 é: 33\n",
      "A altura  inicial é h_0 é: 99m\n",
      "Tempo total até o corpo atingir o solo: 1.05 s.\n"
     ]
    }
   ],
   "source": [
    "# Solicitar ao usuário seu RA e a velocidade inicial do projétil\n",
    "ra = input(\"Digite o seu RA: \")\n",
    "v_0 = int(input(\"Digite a velocidade inicial do projetil(m/s): \"))\n",
    "\n",
    "# Calcular a soma dos dígitos do RA\n",
    "soma_ra = sum(int(i) for i in ra)\n",
    "\n",
    "# Calcular a altura do projétil usando o RA\n",
    "h_0=3*soma_ra\n",
    "\n",
    "g=9.81  # Aceleração da gravidade em m/s^2\n",
    "\n",
    "print(f\"A soma dos dígitos do RA {ra} é: {soma_ra}\")\n",
    "print(f\"A altura  inicial é h_0 é: {h_0}m\")\n",
    "\n",
    "# Calcular o tempo que o projétil leva para atingir o solo\n",
    "## Eq. de segundo grau para o tempo: h_0 + v_0*t − 12*g*t**2 = 0\n",
    "a=-12 * g\n",
    "b=v_0\n",
    "c=h_0\n",
    "import math\n",
    "# Calculando o delta\n",
    "delta = b**2 - 4*a*c\n",
    "if delta < 0:\n",
    "    print(\"Não há raízes reais para a equação.\")\n",
    "else:\n",
    "    # Calculando as raízes da equação\n",
    "    t1 = (-b + math.sqrt(delta)) / (2 * a)\n",
    "    t2 = (-b - math.sqrt(delta)) / (2 * a)\n",
    "\n",
    "    # Verificando se as raízes são válidas\n",
    "    if t1 < 0 and t2 < 0:\n",
    "        print(\"Não há tempo positivo para o projétil atingir o solo.\")\n",
    "    else:\n",
    "        tempo = max(t1, t2)\n",
    "\n",
    "        print(f\"Tempo total até o corpo atingir o solo: {tempo:.2f} s.\")\n"
   ]
  }
 ],
 "metadata": {
  "kernelspec": {
   "display_name": "base",
   "language": "python",
   "name": "python3"
  },
  "language_info": {
   "codemirror_mode": {
    "name": "ipython",
    "version": 3
   },
   "file_extension": ".py",
   "mimetype": "text/x-python",
   "name": "python",
   "nbconvert_exporter": "python",
   "pygments_lexer": "ipython3",
   "version": "3.12.7"
  }
 },
 "nbformat": 4,
 "nbformat_minor": 2
}
